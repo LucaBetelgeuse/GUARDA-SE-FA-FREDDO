{
 "cells": [
  {
   "cell_type": "code",
   "execution_count": 16,
   "id": "ed161373",
   "metadata": {},
   "outputs": [],
   "source": [
    "import pandas as pd"
   ]
  },
  {
   "cell_type": "code",
   "execution_count": 17,
   "id": "063ce326",
   "metadata": {},
   "outputs": [],
   "source": [
    "import numpy as np"
   ]
  },
  {
   "cell_type": "code",
   "execution_count": 18,
   "id": "333f9d1b",
   "metadata": {},
   "outputs": [],
   "source": [
    "df= pd.read_csv('GlobalLandTemperaturesByMajorCity.csv',skipinitialspace=True)# toglie gli spazi"
   ]
  },
  {
   "cell_type": "code",
   "execution_count": 19,
   "id": "189c66e7",
   "metadata": {},
   "outputs": [
    {
     "name": "stdout",
     "output_type": "stream",
     "text": [
      "            dt  AverageTemperature  AverageTemperatureUncertainty     City  \\\n",
      "0   1849-01-01              26.704                          1.435  Abidjan   \n",
      "1   1849-02-01              27.434                          1.362  Abidjan   \n",
      "2   1849-03-01              28.101                          1.612  Abidjan   \n",
      "3   1849-04-01              26.140                          1.387  Abidjan   \n",
      "4   1849-05-01              25.427                          1.200  Abidjan   \n",
      "..         ...                 ...                            ...      ...   \n",
      "95  1856-12-01                 NaN                            NaN  Abidjan   \n",
      "96  1857-01-01              26.549                          1.749  Abidjan   \n",
      "97  1857-02-01                 NaN                            NaN  Abidjan   \n",
      "98  1857-03-01              27.299                          1.263  Abidjan   \n",
      "99  1857-04-01              26.069                          1.206  Abidjan   \n",
      "\n",
      "          Country Latitude Longitude  \n",
      "0   Côte D'Ivoire    5.63N     3.23W  \n",
      "1   Côte D'Ivoire    5.63N     3.23W  \n",
      "2   Côte D'Ivoire    5.63N     3.23W  \n",
      "3   Côte D'Ivoire    5.63N     3.23W  \n",
      "4   Côte D'Ivoire    5.63N     3.23W  \n",
      "..            ...      ...       ...  \n",
      "95  Côte D'Ivoire    5.63N     3.23W  \n",
      "96  Côte D'Ivoire    5.63N     3.23W  \n",
      "97  Côte D'Ivoire    5.63N     3.23W  \n",
      "98  Côte D'Ivoire    5.63N     3.23W  \n",
      "99  Côte D'Ivoire    5.63N     3.23W  \n",
      "\n",
      "[100 rows x 7 columns]\n"
     ]
    }
   ],
   "source": [
    "print(df.head(100))"
   ]
  },
  {
   "cell_type": "code",
   "execution_count": 20,
   "id": "57349ac5",
   "metadata": {},
   "outputs": [],
   "source": [
    "df['dt']=pd.to_datetime(df['dt'])"
   ]
  },
  {
   "cell_type": "code",
   "execution_count": 33,
   "id": "d751b624",
   "metadata": {},
   "outputs": [],
   "source": [
    "df['Year']=df.dt.dt.strftime('%Y').astype(int) # converte la data mantenendo solo l'anno"
   ]
  },
  {
   "cell_type": "code",
   "execution_count": 41,
   "id": "4abb0c23",
   "metadata": {},
   "outputs": [],
   "source": [
    "period_length = 50\n",
    "start_year=df['Year'].min()\n",
    "end_year=df['Year'].max()\n",
    "year_renge = end_year - start_year\n",
    "modulo= year_renge%period_length\n",
    "if modulo == 0:\n",
    "    final_start=end_year-period_length\n",
    "else:\n",
    "    final_start=end_year-modulo\n",
    "final_end=end_year+1"
   ]
  },
  {
   "cell_type": "code",
   "execution_count": 42,
   "id": "e07dbf8d",
   "metadata": {},
   "outputs": [
    {
     "data": {
      "text/plain": [
       "[1743, 1793, 1843, 1893, 1943]"
      ]
     },
     "execution_count": 42,
     "metadata": {},
     "output_type": "execute_result"
    }
   ],
   "source": [
    "starts=np.arange(start_year, final_start, period_length).tolist()\n",
    "starts"
   ]
  },
  {
   "cell_type": "code",
   "execution_count": 43,
   "id": "fcd30ffd",
   "metadata": {},
   "outputs": [
    {
     "data": {
      "text/plain": [
       "[(1743, 1793),\n",
       " (1793, 1843),\n",
       " (1843, 1893),\n",
       " (1893, 1943),\n",
       " (1943, 1993),\n",
       " (1993, 2014)]"
      ]
     },
     "execution_count": 43,
     "metadata": {},
     "output_type": "execute_result"
    }
   ],
   "source": [
    "tuples = [(start, start+period_length) for start in starts]\n",
    "# We'll add the last period calculated earlier\n",
    "tuples.append(tuple([final_start, final_end]))\n",
    "bins = pd.IntervalIndex.from_tuples(tuples, closed='left')\n",
    "tuples"
   ]
  },
  {
   "cell_type": "code",
   "execution_count": 44,
   "id": "f6ae3333",
   "metadata": {},
   "outputs": [],
   "source": [
    "original_labels = list(bins.astype(str))\n",
    "new_labels = ['{} - {}'.format(b.strip('[)').split(', ')[0], int(b.strip('[)').split(', ')[1])-1) for b in original_labels]\n",
    "label_dict = dict(zip(original_labels, new_labels))"
   ]
  },
  {
   "cell_type": "code",
   "execution_count": 45,
   "id": "cf6a39cd",
   "metadata": {},
   "outputs": [
    {
     "data": {
      "text/plain": [
       "dt                               datetime64[ns]\n",
       "AverageTemperature                      float64\n",
       "AverageTemperatureUncertainty           float64\n",
       "City                                     object\n",
       "Country                                  object\n",
       "Latitude                                 object\n",
       "Longitude                                object\n",
       "Year                                      int32\n",
       "Period                                   object\n",
       "dtype: object"
      ]
     },
     "execution_count": 45,
     "metadata": {},
     "output_type": "execute_result"
    }
   ],
   "source": [
    "df.dtypes"
   ]
  },
  {
   "cell_type": "code",
   "execution_count": 46,
   "id": "ffd457ea",
   "metadata": {},
   "outputs": [
    {
     "data": {
      "text/plain": [
       "IntervalIndex([[1743, 1793), [1793, 1843), [1843, 1893), [1893, 1943), [1943, 1993), [1993, 2014)], dtype='interval[int64, left]')"
      ]
     },
     "execution_count": 46,
     "metadata": {},
     "output_type": "execute_result"
    }
   ],
   "source": [
    "# Assign each row to a period\n",
    "df['Period'] = pd.cut(df['Year'], bins=bins, include_lowest=True, precision=0)\n",
    "df['Period'] = df['Period'].astype(\"str\")\n",
    "df = df.replace(label_dict)\n",
    "bins"
   ]
  },
  {
   "cell_type": "code",
   "execution_count": 47,
   "id": "cfd508f7",
   "metadata": {},
   "outputs": [
    {
     "name": "stdout",
     "output_type": "stream",
     "text": [
      "          dt  AverageTemperature  AverageTemperatureUncertainty     City  \\\n",
      "0 1849-01-01              26.704                          1.435  Abidjan   \n",
      "1 1849-02-01              27.434                          1.362  Abidjan   \n",
      "2 1849-03-01              28.101                          1.612  Abidjan   \n",
      "3 1849-04-01              26.140                          1.387  Abidjan   \n",
      "4 1849-05-01              25.427                          1.200  Abidjan   \n",
      "\n",
      "         Country Latitude Longitude  Year       Period  \n",
      "0  Côte D'Ivoire    5.63N     3.23W  1849  1843 - 1892  \n",
      "1  Côte D'Ivoire    5.63N     3.23W  1849  1843 - 1892  \n",
      "2  Côte D'Ivoire    5.63N     3.23W  1849  1843 - 1892  \n",
      "3  Côte D'Ivoire    5.63N     3.23W  1849  1843 - 1892  \n",
      "4  Côte D'Ivoire    5.63N     3.23W  1849  1843 - 1892  \n"
     ]
    }
   ],
   "source": [
    "print(df.head())"
   ]
  },
  {
   "cell_type": "code",
   "execution_count": 92,
   "id": "daea0f69",
   "metadata": {},
   "outputs": [],
   "source": [
    "df2=df.groupby(['City','Period'], as_index=False).agg({'AverageTemperature':['mean','std']})"
   ]
  },
  {
   "cell_type": "code",
   "execution_count": 93,
   "id": "5eb1e67d",
   "metadata": {},
   "outputs": [
    {
     "data": {
      "text/html": [
       "<div>\n",
       "<style scoped>\n",
       "    .dataframe tbody tr th:only-of-type {\n",
       "        vertical-align: middle;\n",
       "    }\n",
       "\n",
       "    .dataframe tbody tr th {\n",
       "        vertical-align: top;\n",
       "    }\n",
       "\n",
       "    .dataframe thead th {\n",
       "        text-align: right;\n",
       "    }\n",
       "</style>\n",
       "<table border=\"1\" class=\"dataframe\">\n",
       "  <thead>\n",
       "    <tr style=\"text-align: right;\">\n",
       "      <th></th>\n",
       "      <th>City</th>\n",
       "      <th>Period</th>\n",
       "      <th>mean</th>\n",
       "      <th>std</th>\n",
       "    </tr>\n",
       "  </thead>\n",
       "  <tbody>\n",
       "    <tr>\n",
       "      <th>0</th>\n",
       "      <td>Abidjan</td>\n",
       "      <td>1843 - 1892</td>\n",
       "      <td>25.516638</td>\n",
       "      <td>1.335605</td>\n",
       "    </tr>\n",
       "    <tr>\n",
       "      <th>1</th>\n",
       "      <td>Abidjan</td>\n",
       "      <td>1893 - 1942</td>\n",
       "      <td>26.041790</td>\n",
       "      <td>1.350970</td>\n",
       "    </tr>\n",
       "    <tr>\n",
       "      <th>2</th>\n",
       "      <td>Abidjan</td>\n",
       "      <td>1943 - 1992</td>\n",
       "      <td>26.343050</td>\n",
       "      <td>1.336278</td>\n",
       "    </tr>\n",
       "    <tr>\n",
       "      <th>3</th>\n",
       "      <td>Abidjan</td>\n",
       "      <td>1993 - 2013</td>\n",
       "      <td>26.883399</td>\n",
       "      <td>1.360359</td>\n",
       "    </tr>\n",
       "    <tr>\n",
       "      <th>4</th>\n",
       "      <td>Addis Abeba</td>\n",
       "      <td>1843 - 1892</td>\n",
       "      <td>17.085043</td>\n",
       "      <td>1.173644</td>\n",
       "    </tr>\n",
       "    <tr>\n",
       "      <th>...</th>\n",
       "      <td>...</td>\n",
       "      <td>...</td>\n",
       "      <td>...</td>\n",
       "      <td>...</td>\n",
       "    </tr>\n",
       "    <tr>\n",
       "      <th>490</th>\n",
       "      <td>Xian</td>\n",
       "      <td>1793 - 1842</td>\n",
       "      <td>11.310949</td>\n",
       "      <td>9.276890</td>\n",
       "    </tr>\n",
       "    <tr>\n",
       "      <th>491</th>\n",
       "      <td>Xian</td>\n",
       "      <td>1843 - 1892</td>\n",
       "      <td>11.047334</td>\n",
       "      <td>9.441107</td>\n",
       "    </tr>\n",
       "    <tr>\n",
       "      <th>492</th>\n",
       "      <td>Xian</td>\n",
       "      <td>1893 - 1942</td>\n",
       "      <td>11.424725</td>\n",
       "      <td>9.516979</td>\n",
       "    </tr>\n",
       "    <tr>\n",
       "      <th>493</th>\n",
       "      <td>Xian</td>\n",
       "      <td>1943 - 1992</td>\n",
       "      <td>11.647688</td>\n",
       "      <td>9.359737</td>\n",
       "    </tr>\n",
       "    <tr>\n",
       "      <th>494</th>\n",
       "      <td>Xian</td>\n",
       "      <td>1993 - 2013</td>\n",
       "      <td>12.368185</td>\n",
       "      <td>9.242925</td>\n",
       "    </tr>\n",
       "  </tbody>\n",
       "</table>\n",
       "<p>495 rows × 4 columns</p>\n",
       "</div>"
      ],
      "text/plain": [
       "            City       Period       mean       std\n",
       "0        Abidjan  1843 - 1892  25.516638  1.335605\n",
       "1        Abidjan  1893 - 1942  26.041790  1.350970\n",
       "2        Abidjan  1943 - 1992  26.343050  1.336278\n",
       "3        Abidjan  1993 - 2013  26.883399  1.360359\n",
       "4    Addis Abeba  1843 - 1892  17.085043  1.173644\n",
       "..           ...          ...        ...       ...\n",
       "490         Xian  1793 - 1842  11.310949  9.276890\n",
       "491         Xian  1843 - 1892  11.047334  9.441107\n",
       "492         Xian  1893 - 1942  11.424725  9.516979\n",
       "493         Xian  1943 - 1992  11.647688  9.359737\n",
       "494         Xian  1993 - 2013  12.368185  9.242925\n",
       "\n",
       "[495 rows x 4 columns]"
      ]
     },
     "execution_count": 93,
     "metadata": {},
     "output_type": "execute_result"
    }
   ],
   "source": [
    "df2.columns=df2.columns.droplevel(0)\n",
    "df2.columns=['City','Period','mean','std']\n",
    "df2\n"
   ]
  },
  {
   "cell_type": "code",
   "execution_count": 107,
   "id": "271fb998",
   "metadata": {},
   "outputs": [
    {
     "name": "stdout",
     "output_type": "stream",
     "text": [
      "{'1843 - 1892': [], '1893 - 1942': [], '1943 - 1992': [], '1993 - 2013': [], '1793 - 1842': [], '1743 - 1792': []}\n",
      "{'1843 - 1892': ['Harbin', 'Changchun', 'Shenyang', 'Montreal', 'Peking'], '1893 - 1942': ['Harbin', 'Changchun', 'Shenyang', 'Montreal', 'Peking'], '1943 - 1992': ['Harbin', 'Changchun', 'Shenyang', 'Montreal', 'Peking'], '1993 - 2013': ['Harbin', 'Changchun', 'Shenyang', 'Montreal', 'Peking'], '1793 - 1842': ['Harbin', 'Changchun', 'Shenyang', 'Montreal', 'Peking'], '1743 - 1792': ['Montreal', 'Moscow', 'Toronto', 'Kiev', 'New York']}\n"
     ]
    }
   ],
   "source": [
    "periods=df['Period'].unique()\n",
    "period_city=dict.fromkeys(df['Period'].unique(),[])\n",
    "print(period_city)\n",
    "for p in df['Period'].unique():\n",
    "    temp=df2[df2['Period']==p]\n",
    "    #temp.sort_values(by=['std'],ascending=False,inplace=True)\n",
    "    period_city[p]=(temp.nlargest(5,'std')['City'].tolist())\n",
    "print(period_city)\n",
    "    "
   ]
  },
  {
   "cell_type": "code",
   "execution_count": 106,
   "id": "43698b70",
   "metadata": {},
   "outputs": [],
   "source": [
    "import matplotlib.pyplot as plt"
   ]
  },
  {
   "cell_type": "code",
   "execution_count": 124,
   "id": "1dc813d5",
   "metadata": {
    "scrolled": true
   },
   "outputs": [
    {
     "name": "stdout",
     "output_type": "stream",
     "text": [
      "362    11.414655\n",
      "Name: mean, dtype: float64\n",
      "363    11.682708\n",
      "Name: mean, dtype: float64\n",
      "364    12.079123\n",
      "Name: mean, dtype: float64\n",
      "365    13.016351\n",
      "Name: mean, dtype: float64\n",
      "361    11.229969\n",
      "Name: mean, dtype: float64\n",
      "349    8.975334\n",
      "Name: mean, dtype: float64\n"
     ]
    },
    {
     "name": "stderr",
     "output_type": "stream",
     "text": [
      "C:\\Users\\root\\AppData\\Local\\Temp\\ipykernel_22964\\3166850775.py:11: UserWarning: Attempting to set identical bottom == top == 11.414655 results in singular transformations; automatically expanding.\n",
      "  axs[i].set_ylim([min(values['mean']),max(values['mean'])])\n",
      "C:\\Users\\root\\AppData\\Local\\Temp\\ipykernel_22964\\3166850775.py:11: UserWarning: Attempting to set identical bottom == top == 11.682708333333334 results in singular transformations; automatically expanding.\n",
      "  axs[i].set_ylim([min(values['mean']),max(values['mean'])])\n",
      "C:\\Users\\root\\AppData\\Local\\Temp\\ipykernel_22964\\3166850775.py:11: UserWarning: Attempting to set identical bottom == top == 12.079123333333333 results in singular transformations; automatically expanding.\n",
      "  axs[i].set_ylim([min(values['mean']),max(values['mean'])])\n",
      "C:\\Users\\root\\AppData\\Local\\Temp\\ipykernel_22964\\3166850775.py:11: UserWarning: Attempting to set identical bottom == top == 13.016350806451614 results in singular transformations; automatically expanding.\n",
      "  axs[i].set_ylim([min(values['mean']),max(values['mean'])])\n",
      "C:\\Users\\root\\AppData\\Local\\Temp\\ipykernel_22964\\3166850775.py:11: UserWarning: Attempting to set identical bottom == top == 11.22996875 results in singular transformations; automatically expanding.\n",
      "  axs[i].set_ylim([min(values['mean']),max(values['mean'])])\n",
      "C:\\Users\\root\\AppData\\Local\\Temp\\ipykernel_22964\\3166850775.py:11: UserWarning: Attempting to set identical bottom == top == 8.975334042553191 results in singular transformations; automatically expanding.\n",
      "  axs[i].set_ylim([min(values['mean']),max(values['mean'])])\n"
     ]
    },
    {
     "data": {
      "image/png": "[encoded data removed]",
      "text/plain": [
       "<Figure size 640x480 with 7 Axes>"
      ]
     },
     "metadata": {},
     "output_type": "display_data"
    }
   ],
   "source": [
    "fig,axs=plt.subplots(7)\n",
    "i=0\n",
    "for p in periods:\n",
    "    cities=period_city[p]\n",
    "    for city in cities:\n",
    "        values=df2[(df2['Period']==p) & (df2['City']==city)]  \n",
    "    axs[i].set_title(p)\n",
    "    print(values['mean'])\n",
    "    axs[i].bar(cities, values['mean'])\n",
    "    i=i+1\n",
    "    axs[i].set_ylim([min(values['mean']),max(values['mean'])])\n",
    "#ax.set_xlabel('Year')\n",
    "#ax.set_ylabel('AverageTemperature')\n",
    "#ax.legend(loc='best')"
   ]
  },
  {
   "cell_type": "code",
   "execution_count": null,
   "id": "55c2d875",
   "metadata": {},
   "outputs": [],
   "source": []
  },
  {
   "cell_type": "code",
   "execution_count": null,
   "id": "a12137fc",
   "metadata": {},
   "outputs": [],
   "source": []
  },
  {
   "cell_type": "code",
   "execution_count": null,
   "id": "6437618e",
   "metadata": {},
   "outputs": [],
   "source": []
  },
  {
   "cell_type": "code",
   "execution_count": null,
   "id": "03a4ff6b",
   "metadata": {},
   "outputs": [],
   "source": []
  },
  {
   "cell_type": "code",
   "execution_count": null,
   "id": "6b7a0d4d",
   "metadata": {},
   "outputs": [],
   "source": []
  }
 ],
 "metadata": {
  "kernelspec": {
   "display_name": "Python 3 (ipykernel)",
   "language": "python",
   "name": "python3"
  },
  "language_info": {
   "codemirror_mode": {
    "name": "ipython",
    "version": 3
   },
   "file_extension": ".py",
   "mimetype": "text/x-python",
   "name": "python",
   "nbconvert_exporter": "python",
   "pygments_lexer": "ipython3",
   "version": "3.9.13"
  }
 },
 "nbformat": 4,
 "nbformat_minor": 5
}
